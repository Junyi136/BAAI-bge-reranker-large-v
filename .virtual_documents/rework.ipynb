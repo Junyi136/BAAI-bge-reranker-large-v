import json


eval_path = "eval_only_query.jsonl"
data = []
with open(eval_path, 'r', encoding='UTF-8') as f:
    for line in f:
        eval = json.loads(line)
        data.append(eval)

dict_subject = {"query":[]}
dict_object = {"query":[]}
for item in data:
    if item["query_type"] == "subjective":
        dict_subject["query"].append(item["query"])
    else:
        dict_object["query"].append(item["query"])

# dict_subject["query"] 存放主观问答题的题目 340题  "query_type": "subjective"
print(dict_object["query"])


def object_query_to_dict(question_str):
    lines = question_str.strip().split('\n')

    # 提取问题部分
    question = lines[1][3:]

    # 提取选项部分
    options = {}
    for line in lines[2:]:
        if not line.startswith(('B:', 'C:', 'D:')): # 检查选项格式
            key = 'A'
            value = line.split(':')[1]
            options[key.strip()] = value.strip()
        if line.startswith(('B:', 'C:', 'D:')):
            key, value = line.split(':', 1)
            options[key.strip()] = value.strip()


    return{
        "question": question,
        "options": options
    }


i = 1
for item in dict_object["query"]:
    sub_query = object_query_to_dict(item)
    dict_object[f"questions{i}"] = sub_query
    i += 1

dict_object["query"] = "根据以下问题和选项给出正确的答案。"
# 给出客观题字典，第一个键值对值query：根据以下问题和选项给出正确的答案。
# 后面 129 个客观题形式如下
"""
{'question': '景区的文化传承对于吸引游客有何影响？', 'options': {'A': '丰富的历史文化背景和传统习俗可以提高景区的吸引力，吸引更多对本地文化感兴趣的游客。', 
'B': '良好的文化传承可以提升游客的旅游体验，使他们在游玩的同时，更好地了解和感受到本地的历史和文化。', 'C': '文化传承对景区的知名度没有影响。', 
'D': '景区的文化传承对于吸引游客没有影响。'}}"""


vaild_train_data = []
with open('IndustryInstruction_Travel-Geography/industry_instruction_semantic_cluster_dedup_旅游_地理_valid_train.jsonl', 'r', encoding='UTF-8') as f:
    for line in f:
        data = json.loads(line)
        vaild_train_data.append(data)


print(len(vaild_train_data))


get_ipython().getoutput("git clone git@github.com:Junyi136/BAAI-bge-reranker-large-v.git")


get_ipython().getoutput("rm -rf BAAI-bge-reranker-large-v")
