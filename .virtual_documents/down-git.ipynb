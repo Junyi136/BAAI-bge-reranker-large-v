get_ipython().getoutput("sudo -v ; curl https://gosspublic.alicdn.com/ossutil/install.sh | sudo bash")


get_ipython().getoutput("ossutil cp oss://tianchi-race-prod-sh/file/race/documents/532283/eval_only_query.jsonl.zip ./eval_only_query.jsonl.zip -i STS.NUqAap94YHoXYb88vf79aFGEs -k AJSvwB1McaeHjGTUxqUZfdUQwxrKfnj8KkGsgwmikfKQ --endpoint=oss-cn-shanghai.aliyuncs.com --sts-token=CAIStgN1q6Ft5B2yfSjIr5bECtvE1Ot4/62zW0SJ3HYzO7ZNqYLukTz2IHhPfHlpAe0Zs/Q/nWpW6PYclrhvQKhJTFDNacJ62ckMq1nxONJSFUMYMuZW5qe+EE2/VjQ/ta27Opc3JbGwU/OpbE++2U0X6LDmdDKkckW4OJmS8/BOZcgWWQ/KClgjA8xNdCRvtOgQN3baKYyxUHjQj3HXEVBjtydllGp78t7f+MCH7QfEh1CI+o0rro/qcJ+/dJsubtUtT9a82ud2d+/b2SVdrgBQ86szl6wD9zbDs5aHClJcpBmBOPfR/9tzN0gkPfJgS/UDoeb1kcp/vOjCoJ3qxgxce+NOVCLbApKh2InmYLr1b49pJOmjYiycjI7SZsTP3ll6MS5BBmRjYME8L3J8MxsoRwzBJ7WvkFKwOV/4E/jciPxpjMollg+2o4rUPSaTQryf2iYZf5M1c0ozOgJTwHTldaYKY92EqqXB7B//p+xRG/M+wcuA1WW6PqbwW3PpEXjQTUd3q3KyGGTu3+OnILBnELBsmUVE4Tr5BUxg9AlqWkKbD5gYLsuJG9uLjJXhpkH7lvHHt65v0j0agAEVhwdkdxRtzaetEWb60kwGYhGkfKCzq8/yNNtToVUkDUnfjJwuIO1KqOYKEAS5e0Mln6NpcxzRHF1qXdw5k7HGR1m/b1NRKgWWCOiwpZ9hZFyzZiSJeW7mEdX12Ebkw298DCmcyq8Vs90anTAPqm0J699/19l+vNUKqZWdXxel7yAA")


get_ipython().getoutput("unzip eval_only_query.jsonl.zip")


get_ipython().getoutput("git clone https://www.modelscope.cn/datasets/BAAI/IndustryInstruction_Travel-Geography.git")


get_ipython().getoutput("git lfs install")


get_ipython().getoutput("pip install -U FlagEmbedding")


get_ipython().getoutput("git clone https://github.com/FlagOpen/FlagEmbedding.git")


get_ipython().run_line_magic("cd", " FlagEmbedding")


get_ipython().getoutput("pip install -e .")





from FlagEmbedding import FlagModel

sentences_1 = ["样例数据-1", "样例数据-2"]
sentences_2 = ["样例数据-3", "样例数据-4"]
model = FlagModel('BAAI/bge-large-zh-v1.5', 
                  query_instruction_for_retrieval="为这个句子生成表示以用于检索相关文章：",
                  use_fp16=True) # Setting use_fp16 to True speeds up computation with a slight performance degradation
embeddings_1 = model.encode(sentences_1)
embeddings_2 = model.encode(sentences_2)
similarity = embeddings_1 @ embeddings_2.T
print(similarity)

# for s2p(short query to long passage) retrieval task, suggest to use encode_queries() which will automatically add the instruction to each query
# corpus in retrieval task can still use encode() or encode_corpus(), since they don't need instruction
queries = ['query_1', 'query_2']
passages = ["样例文档-1", "样例文档-2"]
q_embeddings = model.encode_queries(queries)
p_embeddings = model.encode(passages)
scores = q_embeddings @ p_embeddings.T




